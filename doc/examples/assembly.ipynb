{
 "cells": [
  {
   "cell_type": "code",
   "execution_count": 1,
   "metadata": {},
   "outputs": [],
   "source": [
    "import numpy as np\n",
    "import matplotlib.pyplot as plt\n",
    "import biotite.structure as struc\n",
    "import biotite.structure.io.pdbx as pdbx\n",
    "import biotite.database.rcsb as rcsb\n",
    "import ammolite\n",
    "from pymol2 import PyMOL\n",
    "\n",
    "\n",
    "PNG_SIZE = (800, 800)\n",
    "\n",
    "\n",
    "pymol_app = PyMOL()\n",
    "pymol_app.start()\n",
    "ammolite.setup_parameters(pymol_instance=pymol_app)\n",
    "cmd = pymol_app.cmd"
   ]
  },
  {
   "cell_type": "code",
   "execution_count": 2,
   "metadata": {},
   "outputs": [],
   "source": [
    "assembly = pdbx.get_assembly(\n",
    "    pdbx.PDBxFile.read(rcsb.fetch(\"1XI4\", \"cif\")),\n",
    "    model=1\n",
    ")"
   ]
  },
  {
   "cell_type": "code",
   "execution_count": 3,
   "metadata": {
    "scrolled": true
   },
   "outputs": [],
   "source": [
    "# Structure contains only CA\n",
    "# Bonds are not required for visulization -> empty bond list\n",
    "assembly.bonds = struc.BondList(assembly.array_length())"
   ]
  },
  {
   "cell_type": "code",
   "execution_count": 4,
   "metadata": {},
   "outputs": [],
   "source": [
    "# General configuration\n",
    "cmd.bg_color(\"white\")\n",
    "cmd.set(\"cartoon_side_chain_helper\", 1)\n",
    "cmd.set(\"cartoon_oval_length\", 0.8)\n",
    "cmd.set(\"depth_cue\", 0)\n",
    "cmd.set(\"valence\", 0)"
   ]
  },
  {
   "cell_type": "code",
   "execution_count": null,
   "metadata": {
    "scrolled": true
   },
   "outputs": [
    {
     "name": "stdout",
     "output_type": "stream",
     "text": [
      " PyMOL not running, entering library mode (experimental)\n"
     ]
    }
   ],
   "source": [
    "pymol_obj = ammolite.PyMOLObject.from_structure(\n",
    "    assembly, pymol_instance=pymol_app\n",
    ")\n",
    "\n",
    "pymol_obj.show_as(\"spheres\")\n",
    "pymol_obj.set(\"sphere_scale\", 1.5)\n",
    "ammolite.show(PNG_SIZE, pymol_instance=pymol_app)"
   ]
  },
  {
   "cell_type": "code",
   "execution_count": null,
   "metadata": {},
   "outputs": [],
   "source": [
    "chain_ids = np.unique(assembly.chain_id)\n",
    "for chain_id, color in zip(chain_ids, plt.get_cmap(\"tab20\").colors):\n",
    "    pymol_obj.color(color, assembly.chain_id == chain_id)\n",
    "\n",
    "ammolite.show(PNG_SIZE, pymol_instance=pymol_app)"
   ]
  },
  {
   "cell_type": "code",
   "execution_count": null,
   "metadata": {},
   "outputs": [],
   "source": [
    "pymol_app.stop()"
   ]
  }
 ],
 "metadata": {
  "kernelspec": {
   "display_name": "Python 3",
   "language": "python",
   "name": "python3"
  },
  "language_info": {
   "codemirror_mode": {
    "name": "ipython",
    "version": 3
   },
   "file_extension": ".py",
   "mimetype": "text/x-python",
   "name": "python",
   "nbconvert_exporter": "python",
   "pygments_lexer": "ipython3",
   "version": "3.7.7"
  }
 },
 "nbformat": 4,
 "nbformat_minor": 4
}
